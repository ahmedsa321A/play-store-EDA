{
 "cells": [
  {
   "cell_type": "code",
   "execution_count": 462,
   "id": "d57e7b52",
   "metadata": {},
   "outputs": [],
   "source": [
    "import pandas as pd\n",
    "import numpy as np"
   ]
  },
  {
   "cell_type": "code",
   "execution_count": 463,
   "id": "9e93374d",
   "metadata": {},
   "outputs": [
    {
     "data": {
      "text/html": [
       "<div>\n",
       "<style scoped>\n",
       "    .dataframe tbody tr th:only-of-type {\n",
       "        vertical-align: middle;\n",
       "    }\n",
       "\n",
       "    .dataframe tbody tr th {\n",
       "        vertical-align: top;\n",
       "    }\n",
       "\n",
       "    .dataframe thead th {\n",
       "        text-align: right;\n",
       "    }\n",
       "</style>\n",
       "<table border=\"1\" class=\"dataframe\">\n",
       "  <thead>\n",
       "    <tr style=\"text-align: right;\">\n",
       "      <th></th>\n",
       "      <th>App</th>\n",
       "      <th>Category</th>\n",
       "      <th>Rating</th>\n",
       "      <th>Reviews</th>\n",
       "      <th>Size</th>\n",
       "      <th>Installs</th>\n",
       "      <th>Type</th>\n",
       "      <th>Price</th>\n",
       "      <th>Content Rating</th>\n",
       "      <th>Genres</th>\n",
       "      <th>Last Updated</th>\n",
       "      <th>Current Ver</th>\n",
       "      <th>Android Ver</th>\n",
       "    </tr>\n",
       "  </thead>\n",
       "  <tbody>\n",
       "    <tr>\n",
       "      <th>0</th>\n",
       "      <td>Photo Editor &amp; Candy Camera &amp; Grid &amp; ScrapBook</td>\n",
       "      <td>ART_AND_DESIGN</td>\n",
       "      <td>4.1</td>\n",
       "      <td>159</td>\n",
       "      <td>19M</td>\n",
       "      <td>10,000+</td>\n",
       "      <td>Free</td>\n",
       "      <td>0</td>\n",
       "      <td>Everyone</td>\n",
       "      <td>Art &amp; Design</td>\n",
       "      <td>January 7, 2018</td>\n",
       "      <td>1.0.0</td>\n",
       "      <td>4.0.3 and up</td>\n",
       "    </tr>\n",
       "    <tr>\n",
       "      <th>1</th>\n",
       "      <td>Coloring book moana</td>\n",
       "      <td>ART_AND_DESIGN</td>\n",
       "      <td>3.9</td>\n",
       "      <td>967</td>\n",
       "      <td>14M</td>\n",
       "      <td>500,000+</td>\n",
       "      <td>Free</td>\n",
       "      <td>0</td>\n",
       "      <td>Everyone</td>\n",
       "      <td>Art &amp; Design;Pretend Play</td>\n",
       "      <td>January 15, 2018</td>\n",
       "      <td>2.0.0</td>\n",
       "      <td>4.0.3 and up</td>\n",
       "    </tr>\n",
       "    <tr>\n",
       "      <th>2</th>\n",
       "      <td>U Launcher Lite – FREE Live Cool Themes, Hide ...</td>\n",
       "      <td>ART_AND_DESIGN</td>\n",
       "      <td>4.7</td>\n",
       "      <td>87510</td>\n",
       "      <td>8.7M</td>\n",
       "      <td>5,000,000+</td>\n",
       "      <td>Free</td>\n",
       "      <td>0</td>\n",
       "      <td>Everyone</td>\n",
       "      <td>Art &amp; Design</td>\n",
       "      <td>August 1, 2018</td>\n",
       "      <td>1.2.4</td>\n",
       "      <td>4.0.3 and up</td>\n",
       "    </tr>\n",
       "    <tr>\n",
       "      <th>3</th>\n",
       "      <td>Sketch - Draw &amp; Paint</td>\n",
       "      <td>ART_AND_DESIGN</td>\n",
       "      <td>4.5</td>\n",
       "      <td>215644</td>\n",
       "      <td>25M</td>\n",
       "      <td>50,000,000+</td>\n",
       "      <td>Free</td>\n",
       "      <td>0</td>\n",
       "      <td>Teen</td>\n",
       "      <td>Art &amp; Design</td>\n",
       "      <td>June 8, 2018</td>\n",
       "      <td>Varies with device</td>\n",
       "      <td>4.2 and up</td>\n",
       "    </tr>\n",
       "    <tr>\n",
       "      <th>4</th>\n",
       "      <td>Pixel Draw - Number Art Coloring Book</td>\n",
       "      <td>ART_AND_DESIGN</td>\n",
       "      <td>4.3</td>\n",
       "      <td>967</td>\n",
       "      <td>2.8M</td>\n",
       "      <td>100,000+</td>\n",
       "      <td>Free</td>\n",
       "      <td>0</td>\n",
       "      <td>Everyone</td>\n",
       "      <td>Art &amp; Design;Creativity</td>\n",
       "      <td>June 20, 2018</td>\n",
       "      <td>1.1</td>\n",
       "      <td>4.4 and up</td>\n",
       "    </tr>\n",
       "  </tbody>\n",
       "</table>\n",
       "</div>"
      ],
      "text/plain": [
       "                                                 App        Category  Rating  \\\n",
       "0     Photo Editor & Candy Camera & Grid & ScrapBook  ART_AND_DESIGN     4.1   \n",
       "1                                Coloring book moana  ART_AND_DESIGN     3.9   \n",
       "2  U Launcher Lite – FREE Live Cool Themes, Hide ...  ART_AND_DESIGN     4.7   \n",
       "3                              Sketch - Draw & Paint  ART_AND_DESIGN     4.5   \n",
       "4              Pixel Draw - Number Art Coloring Book  ART_AND_DESIGN     4.3   \n",
       "\n",
       "  Reviews  Size     Installs  Type Price Content Rating  \\\n",
       "0     159   19M      10,000+  Free     0       Everyone   \n",
       "1     967   14M     500,000+  Free     0       Everyone   \n",
       "2   87510  8.7M   5,000,000+  Free     0       Everyone   \n",
       "3  215644   25M  50,000,000+  Free     0           Teen   \n",
       "4     967  2.8M     100,000+  Free     0       Everyone   \n",
       "\n",
       "                      Genres      Last Updated         Current Ver  \\\n",
       "0               Art & Design   January 7, 2018               1.0.0   \n",
       "1  Art & Design;Pretend Play  January 15, 2018               2.0.0   \n",
       "2               Art & Design    August 1, 2018               1.2.4   \n",
       "3               Art & Design      June 8, 2018  Varies with device   \n",
       "4    Art & Design;Creativity     June 20, 2018                 1.1   \n",
       "\n",
       "    Android Ver  \n",
       "0  4.0.3 and up  \n",
       "1  4.0.3 and up  \n",
       "2  4.0.3 and up  \n",
       "3    4.2 and up  \n",
       "4    4.4 and up  "
      ]
     },
     "execution_count": 463,
     "metadata": {},
     "output_type": "execute_result"
    }
   ],
   "source": [
    "df =pd.read_csv('googleplaystore.csv')\n",
    "df.head()\n"
   ]
  },
  {
   "cell_type": "markdown",
   "id": "446d1cae",
   "metadata": {},
   "source": []
  },
  {
   "cell_type": "code",
   "execution_count": 464,
   "id": "e093818c",
   "metadata": {},
   "outputs": [
    {
     "name": "stdout",
     "output_type": "stream",
     "text": [
      "<class 'pandas.core.frame.DataFrame'>\n",
      "RangeIndex: 10841 entries, 0 to 10840\n",
      "Data columns (total 13 columns):\n",
      " #   Column          Non-Null Count  Dtype  \n",
      "---  ------          --------------  -----  \n",
      " 0   App             10841 non-null  object \n",
      " 1   Category        10841 non-null  object \n",
      " 2   Rating          9367 non-null   float64\n",
      " 3   Reviews         10841 non-null  object \n",
      " 4   Size            10841 non-null  object \n",
      " 5   Installs        10841 non-null  object \n",
      " 6   Type            10840 non-null  object \n",
      " 7   Price           10841 non-null  object \n",
      " 8   Content Rating  10840 non-null  object \n",
      " 9   Genres          10841 non-null  object \n",
      " 10  Last Updated    10841 non-null  object \n",
      " 11  Current Ver     10833 non-null  object \n",
      " 12  Android Ver     10838 non-null  object \n",
      "dtypes: float64(1), object(12)\n",
      "memory usage: 1.1+ MB\n"
     ]
    }
   ],
   "source": [
    "df.info()"
   ]
  },
  {
   "cell_type": "markdown",
   "id": "c13ef0b7",
   "metadata": {},
   "source": [
    "# 1. Fix Rating\n",
    "Ratings must be between 1 and 5"
   ]
  },
  {
   "cell_type": "code",
   "execution_count": 465,
   "id": "df289723",
   "metadata": {},
   "outputs": [],
   "source": [
    "df = df[(df['Rating'] >= 1.0) & (df['Rating'] <= 5.0)]"
   ]
  },
  {
   "cell_type": "markdown",
   "id": "018fb203",
   "metadata": {},
   "source": [
    "# 2. Fix Reviews\n",
    "Convert Reviews to numeric"
   ]
  },
  {
   "cell_type": "code",
   "execution_count": 466,
   "id": "ce87791c",
   "metadata": {},
   "outputs": [],
   "source": [
    "df['Reviews'] = pd.to_numeric(df['Reviews'], errors='coerce')"
   ]
  },
  {
   "cell_type": "markdown",
   "id": "db879541",
   "metadata": {},
   "source": [
    "# 3. Fix Size\n",
    "Sizes have values like '19M', '14k', 'Varies with device'"
   ]
  },
  {
   "cell_type": "code",
   "execution_count": 467,
   "id": "48cd1338",
   "metadata": {},
   "outputs": [],
   "source": [
    "def convert_size(size):\n",
    "    if size == 'Varies with device':\n",
    "        return np.nan\n",
    "    size = str(size).strip()\n",
    "    if size.endswith('M'):\n",
    "        return float(size[:-1]) * 1_000_000\n",
    "    elif size.endswith('k'):\n",
    "        return float(size[:-1]) * 1_000\n",
    "    else:\n",
    "        return np.nan\n",
    "\n",
    "df['Size'] = df['Size'].apply(convert_size)"
   ]
  },
  {
   "cell_type": "markdown",
   "id": "1975eacd",
   "metadata": {},
   "source": [
    "# 4. Fix Installs\n",
    "Remove '+' and ',' then convert to int"
   ]
  },
  {
   "cell_type": "code",
   "execution_count": 468,
   "id": "afc8a971",
   "metadata": {},
   "outputs": [],
   "source": [
    "df['Installs'] = df['Installs'].str.replace('+', '', regex=False).str.replace(',', '', regex=False)\n",
    "df['Installs'] = pd.to_numeric(df['Installs'], errors='coerce')"
   ]
  },
  {
   "cell_type": "markdown",
   "id": "d694a792",
   "metadata": {},
   "source": [
    "# 5. Fix Price\n",
    "Remove '$' and convert to float"
   ]
  },
  {
   "cell_type": "code",
   "execution_count": 469,
   "id": "f9af227d",
   "metadata": {},
   "outputs": [],
   "source": [
    "df['Price'] = df['Price'].str.replace('$', '', regex=False)\n",
    "df['Price'] = pd.to_numeric(df['Price'], errors='coerce')"
   ]
  },
  {
   "cell_type": "markdown",
   "id": "3987164c",
   "metadata": {},
   "source": [
    "# 6. Fix Category\n",
    "Ensure category is string, drop invalid"
   ]
  },
  {
   "cell_type": "code",
   "execution_count": 470,
   "id": "6590ed89",
   "metadata": {},
   "outputs": [],
   "source": [
    "df['Category'] = df['Category'].astype(str)\n",
    "df = df[df['Category'].str.len() > 0]"
   ]
  },
  {
   "cell_type": "markdown",
   "id": "6db1dfe5",
   "metadata": {},
   "source": [
    "# 7. Fix Android Version\n",
    "Replace 'Varies with device' with NaN\n",
    "Keep only the first version number (e.g., '4.0.3 and up' -> '4.0.3')"
   ]
  },
  {
   "cell_type": "code",
   "execution_count": 471,
   "id": "3cc53779",
   "metadata": {},
   "outputs": [],
   "source": [
    "df['Android Ver'] = df['Android Ver'].replace('Varies with device', np.nan)\n",
    "\n",
    "df['Android Ver'] = df['Android Ver'].str.split(' ').str[0]"
   ]
  },
  {
   "cell_type": "markdown",
   "id": "610a724e",
   "metadata": {},
   "source": [
    "# 8. Handle Missing Values\n",
    "Strategy: \n",
    "Fill categorical missing values with mode\n",
    "Fill numeric with median"
   ]
  },
  {
   "cell_type": "code",
   "execution_count": 472,
   "id": "56626cc2",
   "metadata": {},
   "outputs": [
    {
     "name": "stderr",
     "output_type": "stream",
     "text": [
      "C:\\Users\\ahmed\\AppData\\Local\\Temp\\ipykernel_20076\\1842323058.py:3: FutureWarning: A value is trying to be set on a copy of a DataFrame or Series through chained assignment using an inplace method.\n",
      "The behavior will change in pandas 3.0. This inplace method will never work because the intermediate object on which we are setting values always behaves as a copy.\n",
      "\n",
      "For example, when doing 'df[col].method(value, inplace=True)', try using 'df.method({col: value}, inplace=True)' or df[col] = df[col].method(value) instead, to perform the operation inplace on the original object.\n",
      "\n",
      "\n",
      "  df[col].fillna(df[col].mode()[0], inplace=True)\n",
      "C:\\Users\\ahmed\\AppData\\Local\\Temp\\ipykernel_20076\\1842323058.py:5: FutureWarning: A value is trying to be set on a copy of a DataFrame or Series through chained assignment using an inplace method.\n",
      "The behavior will change in pandas 3.0. This inplace method will never work because the intermediate object on which we are setting values always behaves as a copy.\n",
      "\n",
      "For example, when doing 'df[col].method(value, inplace=True)', try using 'df.method({col: value}, inplace=True)' or df[col] = df[col].method(value) instead, to perform the operation inplace on the original object.\n",
      "\n",
      "\n",
      "  df[col].fillna(df[col].median(), inplace=True)\n",
      "C:\\Users\\ahmed\\AppData\\Local\\Temp\\ipykernel_20076\\1842323058.py:5: FutureWarning: A value is trying to be set on a copy of a DataFrame or Series through chained assignment using an inplace method.\n",
      "The behavior will change in pandas 3.0. This inplace method will never work because the intermediate object on which we are setting values always behaves as a copy.\n",
      "\n",
      "For example, when doing 'df[col].method(value, inplace=True)', try using 'df.method({col: value}, inplace=True)' or df[col] = df[col].method(value) instead, to perform the operation inplace on the original object.\n",
      "\n",
      "\n",
      "  df[col].fillna(df[col].median(), inplace=True)\n",
      "C:\\Users\\ahmed\\AppData\\Local\\Temp\\ipykernel_20076\\1842323058.py:5: FutureWarning: A value is trying to be set on a copy of a DataFrame or Series through chained assignment using an inplace method.\n",
      "The behavior will change in pandas 3.0. This inplace method will never work because the intermediate object on which we are setting values always behaves as a copy.\n",
      "\n",
      "For example, when doing 'df[col].method(value, inplace=True)', try using 'df.method({col: value}, inplace=True)' or df[col] = df[col].method(value) instead, to perform the operation inplace on the original object.\n",
      "\n",
      "\n",
      "  df[col].fillna(df[col].median(), inplace=True)\n",
      "C:\\Users\\ahmed\\AppData\\Local\\Temp\\ipykernel_20076\\1842323058.py:5: FutureWarning: A value is trying to be set on a copy of a DataFrame or Series through chained assignment using an inplace method.\n",
      "The behavior will change in pandas 3.0. This inplace method will never work because the intermediate object on which we are setting values always behaves as a copy.\n",
      "\n",
      "For example, when doing 'df[col].method(value, inplace=True)', try using 'df.method({col: value}, inplace=True)' or df[col] = df[col].method(value) instead, to perform the operation inplace on the original object.\n",
      "\n",
      "\n",
      "  df[col].fillna(df[col].median(), inplace=True)\n",
      "C:\\Users\\ahmed\\AppData\\Local\\Temp\\ipykernel_20076\\1842323058.py:3: FutureWarning: A value is trying to be set on a copy of a DataFrame or Series through chained assignment using an inplace method.\n",
      "The behavior will change in pandas 3.0. This inplace method will never work because the intermediate object on which we are setting values always behaves as a copy.\n",
      "\n",
      "For example, when doing 'df[col].method(value, inplace=True)', try using 'df.method({col: value}, inplace=True)' or df[col] = df[col].method(value) instead, to perform the operation inplace on the original object.\n",
      "\n",
      "\n",
      "  df[col].fillna(df[col].mode()[0], inplace=True)\n",
      "C:\\Users\\ahmed\\AppData\\Local\\Temp\\ipykernel_20076\\1842323058.py:5: FutureWarning: A value is trying to be set on a copy of a DataFrame or Series through chained assignment using an inplace method.\n",
      "The behavior will change in pandas 3.0. This inplace method will never work because the intermediate object on which we are setting values always behaves as a copy.\n",
      "\n",
      "For example, when doing 'df[col].method(value, inplace=True)', try using 'df.method({col: value}, inplace=True)' or df[col] = df[col].method(value) instead, to perform the operation inplace on the original object.\n",
      "\n",
      "\n",
      "  df[col].fillna(df[col].median(), inplace=True)\n",
      "C:\\Users\\ahmed\\AppData\\Local\\Temp\\ipykernel_20076\\1842323058.py:3: FutureWarning: A value is trying to be set on a copy of a DataFrame or Series through chained assignment using an inplace method.\n",
      "The behavior will change in pandas 3.0. This inplace method will never work because the intermediate object on which we are setting values always behaves as a copy.\n",
      "\n",
      "For example, when doing 'df[col].method(value, inplace=True)', try using 'df.method({col: value}, inplace=True)' or df[col] = df[col].method(value) instead, to perform the operation inplace on the original object.\n",
      "\n",
      "\n",
      "  df[col].fillna(df[col].mode()[0], inplace=True)\n"
     ]
    }
   ],
   "source": [
    "for col in df.columns:\n",
    "    if df[col].dtype == 'object':\n",
    "        df[col].fillna(df[col].mode()[0], inplace=True)\n",
    "    else:\n",
    "        df[col].fillna(df[col].median(), inplace=True)"
   ]
  },
  {
   "cell_type": "code",
   "execution_count": null,
   "id": "94f74135",
   "metadata": {},
   "outputs": [
    {
     "data": {
      "image/png": "[encoded data removed]",
      "text/plain": [
       "<Figure size 1200x800 with 1 Axes>"
      ]
     },
     "metadata": {},
     "output_type": "display_data"
    }
   ],
   "source": [
    "import matplotlib.pyplot as plt\n",
    "\n",
    "num_cols = ['Rating', 'Reviews', 'Size', 'Installs', 'Price']\n",
    "\n",
    "plt.figure(figsize=(12, 8))\n",
    "df[num_cols].boxplot()\n",
    "plt.title(\"Boxplots of Numeric Features\")\n",
    "plt.ylabel(\"Value\")\n",
    "plt.xticks(rotation=45)\n",
    "plt.show()\n"
   ]
  },
  {
   "cell_type": "markdown",
   "id": "07e66d5a",
   "metadata": {},
   "source": [
    "# 10. Fix Dates"
   ]
  },
  {
   "cell_type": "code",
   "execution_count": 474,
   "id": "53a4df2d",
   "metadata": {},
   "outputs": [],
   "source": [
    "df['Last Updated'] = pd.to_datetime(df['Last Updated'], errors='coerce')\n",
    "\n",
    "df.reset_index(drop=True, inplace=True)"
   ]
  },
  {
   "cell_type": "code",
   "execution_count": 475,
   "id": "f99e995c",
   "metadata": {},
   "outputs": [
    {
     "name": "stdout",
     "output_type": "stream",
     "text": [
      "<class 'pandas.core.frame.DataFrame'>\n",
      "RangeIndex: 9366 entries, 0 to 9365\n",
      "Data columns (total 13 columns):\n",
      " #   Column          Non-Null Count  Dtype         \n",
      "---  ------          --------------  -----         \n",
      " 0   App             9366 non-null   object        \n",
      " 1   Category        9366 non-null   object        \n",
      " 2   Rating          9366 non-null   float64       \n",
      " 3   Reviews         9366 non-null   int64         \n",
      " 4   Size            9366 non-null   float64       \n",
      " 5   Installs        9366 non-null   int64         \n",
      " 6   Type            9366 non-null   object        \n",
      " 7   Price           9366 non-null   float64       \n",
      " 8   Content Rating  9366 non-null   object        \n",
      " 9   Genres          9366 non-null   object        \n",
      " 10  Last Updated    9366 non-null   datetime64[ns]\n",
      " 11  Current Ver     9366 non-null   object        \n",
      " 12  Android Ver     9366 non-null   object        \n",
      "dtypes: datetime64[ns](1), float64(3), int64(2), object(7)\n",
      "memory usage: 951.4+ KB\n"
     ]
    }
   ],
   "source": [
    "df.info()"
   ]
  },
  {
   "cell_type": "code",
   "execution_count": 476,
   "id": "68367471",
   "metadata": {},
   "outputs": [
    {
     "data": {
      "text/html": [
       "<div>\n",
       "<style scoped>\n",
       "    .dataframe tbody tr th:only-of-type {\n",
       "        vertical-align: middle;\n",
       "    }\n",
       "\n",
       "    .dataframe tbody tr th {\n",
       "        vertical-align: top;\n",
       "    }\n",
       "\n",
       "    .dataframe thead th {\n",
       "        text-align: right;\n",
       "    }\n",
       "</style>\n",
       "<table border=\"1\" class=\"dataframe\">\n",
       "  <thead>\n",
       "    <tr style=\"text-align: right;\">\n",
       "      <th></th>\n",
       "      <th>App</th>\n",
       "      <th>Category</th>\n",
       "      <th>Rating</th>\n",
       "      <th>Reviews</th>\n",
       "      <th>Size</th>\n",
       "      <th>Installs</th>\n",
       "      <th>Type</th>\n",
       "      <th>Price</th>\n",
       "      <th>Content Rating</th>\n",
       "      <th>Genres</th>\n",
       "      <th>Last Updated</th>\n",
       "      <th>Current Ver</th>\n",
       "      <th>Android Ver</th>\n",
       "    </tr>\n",
       "  </thead>\n",
       "  <tbody>\n",
       "    <tr>\n",
       "      <th>0</th>\n",
       "      <td>Photo Editor &amp; Candy Camera &amp; Grid &amp; ScrapBook</td>\n",
       "      <td>ART_AND_DESIGN</td>\n",
       "      <td>4.1</td>\n",
       "      <td>159</td>\n",
       "      <td>19000000.0</td>\n",
       "      <td>10000</td>\n",
       "      <td>Free</td>\n",
       "      <td>0.0</td>\n",
       "      <td>Everyone</td>\n",
       "      <td>Art &amp; Design</td>\n",
       "      <td>2018-01-07</td>\n",
       "      <td>1.0.0</td>\n",
       "      <td>4.0.3</td>\n",
       "    </tr>\n",
       "    <tr>\n",
       "      <th>1</th>\n",
       "      <td>Coloring book moana</td>\n",
       "      <td>ART_AND_DESIGN</td>\n",
       "      <td>3.9</td>\n",
       "      <td>967</td>\n",
       "      <td>14000000.0</td>\n",
       "      <td>500000</td>\n",
       "      <td>Free</td>\n",
       "      <td>0.0</td>\n",
       "      <td>Everyone</td>\n",
       "      <td>Art &amp; Design;Pretend Play</td>\n",
       "      <td>2018-01-15</td>\n",
       "      <td>2.0.0</td>\n",
       "      <td>4.0.3</td>\n",
       "    </tr>\n",
       "    <tr>\n",
       "      <th>2</th>\n",
       "      <td>U Launcher Lite – FREE Live Cool Themes, Hide ...</td>\n",
       "      <td>ART_AND_DESIGN</td>\n",
       "      <td>4.7</td>\n",
       "      <td>87510</td>\n",
       "      <td>8700000.0</td>\n",
       "      <td>5000000</td>\n",
       "      <td>Free</td>\n",
       "      <td>0.0</td>\n",
       "      <td>Everyone</td>\n",
       "      <td>Art &amp; Design</td>\n",
       "      <td>2018-08-01</td>\n",
       "      <td>1.2.4</td>\n",
       "      <td>4.0.3</td>\n",
       "    </tr>\n",
       "    <tr>\n",
       "      <th>3</th>\n",
       "      <td>Sketch - Draw &amp; Paint</td>\n",
       "      <td>ART_AND_DESIGN</td>\n",
       "      <td>4.5</td>\n",
       "      <td>215644</td>\n",
       "      <td>25000000.0</td>\n",
       "      <td>50000000</td>\n",
       "      <td>Free</td>\n",
       "      <td>0.0</td>\n",
       "      <td>Teen</td>\n",
       "      <td>Art &amp; Design</td>\n",
       "      <td>2018-06-08</td>\n",
       "      <td>Varies with device</td>\n",
       "      <td>4.2</td>\n",
       "    </tr>\n",
       "    <tr>\n",
       "      <th>4</th>\n",
       "      <td>Pixel Draw - Number Art Coloring Book</td>\n",
       "      <td>ART_AND_DESIGN</td>\n",
       "      <td>4.3</td>\n",
       "      <td>967</td>\n",
       "      <td>2800000.0</td>\n",
       "      <td>100000</td>\n",
       "      <td>Free</td>\n",
       "      <td>0.0</td>\n",
       "      <td>Everyone</td>\n",
       "      <td>Art &amp; Design;Creativity</td>\n",
       "      <td>2018-06-20</td>\n",
       "      <td>1.1</td>\n",
       "      <td>4.4</td>\n",
       "    </tr>\n",
       "  </tbody>\n",
       "</table>\n",
       "</div>"
      ],
      "text/plain": [
       "                                                 App        Category  Rating  \\\n",
       "0     Photo Editor & Candy Camera & Grid & ScrapBook  ART_AND_DESIGN     4.1   \n",
       "1                                Coloring book moana  ART_AND_DESIGN     3.9   \n",
       "2  U Launcher Lite – FREE Live Cool Themes, Hide ...  ART_AND_DESIGN     4.7   \n",
       "3                              Sketch - Draw & Paint  ART_AND_DESIGN     4.5   \n",
       "4              Pixel Draw - Number Art Coloring Book  ART_AND_DESIGN     4.3   \n",
       "\n",
       "   Reviews        Size  Installs  Type  Price Content Rating  \\\n",
       "0      159  19000000.0     10000  Free    0.0       Everyone   \n",
       "1      967  14000000.0    500000  Free    0.0       Everyone   \n",
       "2    87510   8700000.0   5000000  Free    0.0       Everyone   \n",
       "3   215644  25000000.0  50000000  Free    0.0           Teen   \n",
       "4      967   2800000.0    100000  Free    0.0       Everyone   \n",
       "\n",
       "                      Genres Last Updated         Current Ver Android Ver  \n",
       "0               Art & Design   2018-01-07               1.0.0       4.0.3  \n",
       "1  Art & Design;Pretend Play   2018-01-15               2.0.0       4.0.3  \n",
       "2               Art & Design   2018-08-01               1.2.4       4.0.3  \n",
       "3               Art & Design   2018-06-08  Varies with device         4.2  \n",
       "4    Art & Design;Creativity   2018-06-20                 1.1         4.4  "
      ]
     },
     "execution_count": 476,
     "metadata": {},
     "output_type": "execute_result"
    }
   ],
   "source": [
    "df.head()"
   ]
  },
  {
   "cell_type": "markdown",
   "id": "cbc29da5",
   "metadata": {},
   "source": [
    "## 1.\tWhat is the most expensive app on the Play Store?"
   ]
  },
  {
   "cell_type": "code",
   "execution_count": 477,
   "id": "bae20f71",
   "metadata": {},
   "outputs": [
    {
     "data": {
      "text/plain": [
       "App      I'm Rich - Trump Edition\n",
       "Price                       400.0\n",
       "Name: 4196, dtype: object"
      ]
     },
     "execution_count": 477,
     "metadata": {},
     "output_type": "execute_result"
    }
   ],
   "source": [
    "most_expensive = df.loc[df['Price'].idxmax(), ['App', 'Price']]\n",
    "most_expensive\n"
   ]
  },
  {
   "cell_type": "markdown",
   "id": "529a9e84",
   "metadata": {},
   "source": [
    "## 2 Which genre has the highest number of apps?"
   ]
  },
  {
   "cell_type": "code",
   "execution_count": 478,
   "id": "d834a8b9",
   "metadata": {},
   "outputs": [
    {
     "name": "stdout",
     "output_type": "stream",
     "text": [
      "Top Genre: Tools | Count: 734\n"
     ]
    }
   ],
   "source": [
    "df_genres = df.copy()\n",
    "df_genres['Genres'] = df_genres['Genres'].astype(str).str.split(';')\n",
    "df_genres = df_genres.explode('Genres')\n",
    "top_genre = df_genres['Genres'].value_counts().idxmax()\n",
    "top_genre_count = df_genres['Genres'].value_counts().max()\n",
    "print(\"Top Genre:\", top_genre, \"| Count:\", top_genre_count)"
   ]
  },
  {
   "cell_type": "code",
   "execution_count": 491,
   "id": "d0275575",
   "metadata": {},
   "outputs": [
    {
     "name": "stdout",
     "output_type": "stream",
     "text": [
      "['Art & Design' 'Pretend Play' 'Creativity' 'Auto & Vehicles' 'Beauty'\n",
      " 'Books & Reference' 'Business' 'Comics' 'Communication' 'Dating'\n",
      " 'Education' 'Music & Video' 'Action & Adventure' 'Brain Games'\n",
      " 'Entertainment' 'Events' 'Finance' 'Food & Drink' 'Health & Fitness'\n",
      " 'House & Home' 'Libraries & Demo' 'Lifestyle' 'Adventure' 'Arcade'\n",
      " 'Casual' 'Card' 'Action' 'Strategy' 'Puzzle' 'Sports' 'Music' 'Word'\n",
      " 'Racing' 'Simulation' 'Board' 'Trivia' 'Role Playing' 'Educational'\n",
      " 'Music & Audio' 'Video Players & Editors' 'Medical' 'Social' 'Shopping'\n",
      " 'Photography' 'Travel & Local' 'Tools' 'Personalization' 'Productivity'\n",
      " 'Parenting' 'Weather' 'News & Magazines' 'Maps & Navigation' 'Casino']\n"
     ]
    }
   ],
   "source": [
    "print(df_genres['Genres'].unique())\n"
   ]
  },
  {
   "cell_type": "markdown",
   "id": "e0a2c8ba",
   "metadata": {},
   "source": [
    "# 3) Average size of free vs. paid apps\n"
   ]
  },
  {
   "cell_type": "code",
   "execution_count": 480,
   "id": "7d133e0c",
   "metadata": {},
   "outputs": [
    {
     "name": "stdout",
     "output_type": "stream",
     "text": [
      "\n",
      "Average Size (MB):\n",
      "Type\n",
      "Free    21.500797\n",
      "Paid    19.925652\n",
      "Name: Size, dtype: float64\n"
     ]
    }
   ],
   "source": [
    "avg_size = df.groupby('Type')['Size'].mean() / 1_000_000   # convert to MB\n",
    "print(\"\\nAverage Size (MB):\")\n",
    "print(avg_size)"
   ]
  },
  {
   "cell_type": "markdown",
   "id": "6e83e3ce",
   "metadata": {},
   "source": [
    "# 4) Top 5 most expensive apps with a perfect rating (5.0)\n"
   ]
  },
  {
   "cell_type": "code",
   "execution_count": 481,
   "id": "43dbb074",
   "metadata": {},
   "outputs": [
    {
     "name": "stdout",
     "output_type": "stream",
     "text": [
      "\n",
      "Top 5 Most Expensive Apps with Rating 5.0:\n",
      "                                            App     Genres  Price  Rating\n",
      "5177                  AP Art History Flashcards  Education  29.99     5.0\n",
      "6685                 USMLE Step 2 CK Flashcards  Education  19.99     5.0\n",
      "4967                      Hey AJ! It's Bedtime!  Education   4.99     5.0\n",
      "6500  TI-84 CE Graphing Calculator Manual TI 84  Education   4.99     5.0\n",
      "5172                 meStudying: AP English Lit  Education   4.99     5.0\n"
     ]
    }
   ],
   "source": [
    "top5_expensive_perfect = (\n",
    "    df[df['Rating'] == 5.0]\n",
    "    .sort_values('Price', ascending=False)\n",
    "    [['App','Genres','Price','Rating']]\n",
    "    .head(5)\n",
    ")\n",
    "print(\"\\nTop 5 Most Expensive Apps with Rating 5.0:\")\n",
    "print(top5_expensive_perfect)"
   ]
  },
  {
   "cell_type": "markdown",
   "id": "0f305076",
   "metadata": {},
   "source": [
    "# 5) How many apps have received more than 50K reviews?\n"
   ]
  },
  {
   "cell_type": "code",
   "execution_count": 493,
   "id": "ee2d5dde",
   "metadata": {},
   "outputs": [
    {
     "name": "stdout",
     "output_type": "stream",
     "text": [
      "\n",
      "Apps with >50K reviews: 2782\n"
     ]
    }
   ],
   "source": [
    "\n",
    "count_gt_50k_reviews = (df['Reviews'] > 50_000).sum()\n",
    "print(\"\\nApps with >50K reviews:\", count_gt_50k_reviews)"
   ]
  },
  {
   "cell_type": "markdown",
   "id": "410759dc",
   "metadata": {},
   "source": [
    "# 6) Average price of apps, grouped by genre and number of installs"
   ]
  },
  {
   "cell_type": "code",
   "execution_count": 483,
   "id": "54ed9d28",
   "metadata": {},
   "outputs": [
    {
     "name": "stdout",
     "output_type": "stream",
     "text": [
      "\n",
      "Average Price by Genre and Installs (first 10 rows):\n",
      "                Genres   Installs  Avg Price\n",
      "0               Action         10   0.000000\n",
      "1               Action         50   1.990000\n",
      "2               Action        100   1.370000\n",
      "3               Action        500   1.990000\n",
      "4               Action       1000   0.425714\n",
      "5               Action       5000   0.000000\n",
      "6               Action      10000   2.051667\n",
      "7               Action      50000   0.398667\n",
      "8               Action     100000   0.389268\n",
      "9               Action     500000   0.090455\n",
      "10              Action    1000000   0.304068\n",
      "11              Action    5000000   0.000000\n",
      "12              Action   10000000   0.011647\n",
      "13              Action   50000000   0.000000\n",
      "14              Action  100000000   0.000000\n",
      "15              Action  500000000   0.000000\n",
      "16  Action & Adventure        500   1.990000\n",
      "17  Action & Adventure       1000   2.990000\n",
      "18  Action & Adventure       5000   2.990000\n",
      "19  Action & Adventure      10000   2.990000\n",
      "20  Action & Adventure      50000   1.663333\n",
      "21  Action & Adventure     100000   1.450000\n",
      "22  Action & Adventure     500000   0.998000\n",
      "23  Action & Adventure    1000000   0.099667\n",
      "24  Action & Adventure    5000000   0.000000\n",
      "25  Action & Adventure   10000000   0.310667\n",
      "26  Action & Adventure   50000000   0.000000\n",
      "27  Action & Adventure  100000000   0.000000\n",
      "28           Adventure        100   1.993333\n",
      "29           Adventure       1000   3.194000\n"
     ]
    }
   ],
   "source": [
    "avg_price_by_genre_installs = (\n",
    "    df_genres.groupby(['Genres','Installs'])['Price']\n",
    "    .mean()\n",
    "    .reset_index()\n",
    "    .rename(columns={'Price':'Avg Price'})\n",
    "    .sort_values(['Genres','Installs'])\n",
    ")\n",
    "print(\"\\nAverage Price by Genre and Installs (first 10 rows):\")\n",
    "print(avg_price_by_genre_installs.head(30))\n"
   ]
  },
  {
   "cell_type": "markdown",
   "id": "546a94fa",
   "metadata": {},
   "source": [
    "# 7) How many apps have rating > 4.7, and what is their average price?\n"
   ]
  },
  {
   "cell_type": "code",
   "execution_count": 484,
   "id": "9706156f",
   "metadata": {},
   "outputs": [
    {
     "name": "stdout",
     "output_type": "stream",
     "text": [
      "\n",
      "Apps with rating > 4.7: 595\n",
      "Average price of these apps: 0.5018487394957983\n"
     ]
    }
   ],
   "source": [
    "mask = df['Rating'] > 4.7\n",
    "count_high_rating = mask.sum()\n",
    "avg_price_high_rating = df.loc[mask,'Price'].mean()\n",
    "print(\"\\nApps with rating > 4.7:\", count_high_rating)\n",
    "print(\"Average price of these apps:\", avg_price_high_rating)"
   ]
  },
  {
   "cell_type": "markdown",
   "id": "f42267ca",
   "metadata": {},
   "source": [
    "# 8) Google's estimated revenue from apps with 5,000,000+ installs\n"
   ]
  },
  {
   "cell_type": "code",
   "execution_count": 485,
   "id": "f02589be",
   "metadata": {},
   "outputs": [
    {
     "name": "stdout",
     "output_type": "stream",
     "text": [
      "\n",
      "Estimated Google revenue (from paid apps with ≥5M installs): 44910000.0\n"
     ]
    }
   ],
   "source": [
    "df_paid_high = df[(df['Installs'] >= 5_000_000) & (df['Type'] == 'Paid')].copy()\n",
    "df_paid_high['Est_Google_Revenue'] = 0.30 * df_paid_high['Price'] * df_paid_high['Installs']\n",
    "total_google_rev = df_paid_high['Est_Google_Revenue'].sum()\n",
    "print(\"\\nEstimated Google revenue (from paid apps with ≥5M installs):\", total_google_rev)\n"
   ]
  },
  {
   "cell_type": "markdown",
   "id": "29f016e4",
   "metadata": {},
   "source": [
    "# 9. What are the maximum and minimum sizes of free vs. paid apps?"
   ]
  },
  {
   "cell_type": "code",
   "execution_count": 486,
   "id": "72817888",
   "metadata": {},
   "outputs": [
    {
     "name": "stdout",
     "output_type": "stream",
     "text": [
      "          min          max\n",
      "Type                      \n",
      "Free   8500.0  100000000.0\n",
      "Paid  14000.0  100000000.0\n"
     ]
    }
   ],
   "source": [
    "size_stats = df.groupby('Type')['Size'].agg(['min', 'max'])\n",
    "print(size_stats)\n"
   ]
  },
  {
   "cell_type": "markdown",
   "id": "cf851e9c",
   "metadata": {},
   "source": [
    "# 10. Is there a correlation between an app’s rating, number of reviews, size, and its price?\n",
    "There is no strong correlation between an app’s rating, number of reviews, size, and price.\n",
    "All values are very close to 0, meaning these factors are largely independent of each other."
   ]
  },
  {
   "cell_type": "code",
   "execution_count": 487,
   "id": "fedb593a",
   "metadata": {},
   "outputs": [
    {
     "name": "stdout",
     "output_type": "stream",
     "text": [
      "           Rating   Reviews      Size     Price\n",
      "Rating   1.000000  0.068141  0.067478 -0.021903\n",
      "Reviews  0.068141  1.000000  0.103888 -0.009820\n",
      "Size     0.067478  0.103888  1.000000 -0.022284\n",
      "Price   -0.021903 -0.009820 -0.022284  1.000000\n"
     ]
    }
   ],
   "source": [
    "corr = df[['Rating', 'Reviews', 'Size', 'Price']].corr()\n",
    "print(corr)"
   ]
  },
  {
   "cell_type": "code",
   "execution_count": 488,
   "id": "be517bfd",
   "metadata": {},
   "outputs": [
    {
     "data": {
      "image/png": "[encoded data removed]",
      "text/plain": [
       "<Figure size 640x480 with 2 Axes>"
      ]
     },
     "metadata": {},
     "output_type": "display_data"
    }
   ],
   "source": [
    "import seaborn as sns\n",
    "import matplotlib.pyplot as plt\n",
    "\n",
    "sns.heatmap(corr, annot=True, cmap='coolwarm')\n",
    "plt.show()\n"
   ]
  },
  {
   "cell_type": "markdown",
   "id": "92f60cea",
   "metadata": {},
   "source": [
    "## 11. How many apps exist for each type (free/paid) across different content ratings?"
   ]
  },
  {
   "cell_type": "code",
   "execution_count": 489,
   "id": "cbb17a8f",
   "metadata": {},
   "outputs": [
    {
     "name": "stdout",
     "output_type": "stream",
     "text": [
      "Type             Free  Paid\n",
      "Content Rating             \n",
      "Adults only 18+     3     0\n",
      "Everyone         6868   552\n",
      "Everyone 10+      364    33\n",
      "Mature 17+        444    17\n",
      "Teen             1039    45\n",
      "Unrated             1     0\n"
     ]
    }
   ],
   "source": [
    "type_content_counts = df.groupby(['Content Rating', 'Type']).size().unstack(fill_value=0)\n",
    "print(type_content_counts)\n"
   ]
  },
  {
   "cell_type": "markdown",
   "id": "41fa9d31",
   "metadata": {},
   "source": [
    "## 12. How many apps are compatible with Android version 4.x?"
   ]
  },
  {
   "cell_type": "code",
   "execution_count": 490,
   "id": "b86b0c48",
   "metadata": {},
   "outputs": [
    {
     "name": "stdout",
     "output_type": "stream",
     "text": [
      "Number of apps compatible with Android 4.x: 7180\n"
     ]
    }
   ],
   "source": [
    "android_4x = df[df['Android Ver'].str.startswith('4', na=False)]\n",
    "print(\"Number of apps compatible with Android 4.x:\", android_4x.shape[0])\n"
   ]
  }
 ],
 "metadata": {
  "kernelspec": {
   "display_name": "Python 3",
   "language": "python",
   "name": "python3"
  },
  "language_info": {
   "codemirror_mode": {
    "name": "ipython",
    "version": 3
   },
   "file_extension": ".py",
   "mimetype": "text/x-python",
   "name": "python",
   "nbconvert_exporter": "python",
   "pygments_lexer": "ipython3",
   "version": "3.13.5"
  }
 },
 "nbformat": 4,
 "nbformat_minor": 5
}
